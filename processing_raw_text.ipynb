{
 "cells": [
  {
   "cell_type": "code",
   "execution_count": 1,
   "id": "c8aeef2d-a210-4d40-b5da-a8d6d4609266",
   "metadata": {},
   "outputs": [],
   "source": [
    "import nltk\n",
    "import re\n",
    "import pprint"
   ]
  },
  {
   "cell_type": "markdown",
   "id": "98160137-5082-41da-9884-7e5c47e7673c",
   "metadata": {},
   "source": [
    "## Accessing Text from the Web and from Disk"
   ]
  },
  {
   "cell_type": "code",
   "execution_count": 25,
   "id": "3fa6d907-6695-4682-a7a7-55bbf9485189",
   "metadata": {},
   "outputs": [
    {
     "data": {
      "text/plain": [
       "str"
      ]
     },
     "execution_count": 25,
     "metadata": {},
     "output_type": "execute_result"
    }
   ],
   "source": [
    "from urllib.request import urlopen\n",
    "\n",
    "url = \"https://www.gutenberg.org/cache/epub/32705/pg32705.txt\"\n",
    "\n",
    "raw = urlopen(url).read().decode('utf-8')\n",
    "type(raw)"
   ]
  },
  {
   "cell_type": "code",
   "execution_count": 26,
   "id": "0306de7e-db17-4c98-8399-d5874456c7b2",
   "metadata": {},
   "outputs": [
    {
     "data": {
      "text/plain": [
       "110015"
      ]
     },
     "execution_count": 26,
     "metadata": {},
     "output_type": "execute_result"
    }
   ],
   "source": [
    "len(raw)"
   ]
  },
  {
   "cell_type": "code",
   "execution_count": 27,
   "id": "23471d64-0089-4ef9-a77f-cd65067ec149",
   "metadata": {},
   "outputs": [
    {
     "data": {
      "text/plain": [
       "'\\ufeffThe Project Gutenberg eBook of Deadly City\\r\\n    \\r\\nThis ebook is for the us'"
      ]
     },
     "execution_count": 27,
     "metadata": {},
     "output_type": "execute_result"
    }
   ],
   "source": [
    "raw[:75]"
   ]
  },
  {
   "cell_type": "code",
   "execution_count": 28,
   "id": "d1fdfd79-e8b3-4d27-8024-bb7a09d5b858",
   "metadata": {},
   "outputs": [
    {
     "data": {
      "text/plain": [
       "list"
      ]
     },
     "execution_count": 28,
     "metadata": {},
     "output_type": "execute_result"
    }
   ],
   "source": [
    "tokens = nltk.word_tokenize(raw)\n",
    "type(tokens)"
   ]
  },
  {
   "cell_type": "code",
   "execution_count": 29,
   "id": "7bdb5f9a-d30d-4476-aad4-1d7915f837e8",
   "metadata": {},
   "outputs": [
    {
     "data": {
      "text/plain": [
       "23472"
      ]
     },
     "execution_count": 29,
     "metadata": {},
     "output_type": "execute_result"
    }
   ],
   "source": [
    "len(tokens)"
   ]
  },
  {
   "cell_type": "code",
   "execution_count": 30,
   "id": "899e6696-223a-420d-b817-4d993013e040",
   "metadata": {},
   "outputs": [
    {
     "data": {
      "text/plain": [
       "['\\ufeffThe',\n",
       " 'Project',\n",
       " 'Gutenberg',\n",
       " 'eBook',\n",
       " 'of',\n",
       " 'Deadly',\n",
       " 'City',\n",
       " 'This',\n",
       " 'ebook',\n",
       " 'is']"
      ]
     },
     "execution_count": 30,
     "metadata": {},
     "output_type": "execute_result"
    }
   ],
   "source": [
    "tokens[:10]"
   ]
  },
  {
   "cell_type": "code",
   "execution_count": 31,
   "id": "2e5234aa-a96a-40e4-b210-f582efdc5d7c",
   "metadata": {},
   "outputs": [
    {
     "data": {
      "text/plain": [
       "nltk.text.Text"
      ]
     },
     "execution_count": 31,
     "metadata": {},
     "output_type": "execute_result"
    }
   ],
   "source": [
    "text = nltk.Text(tokens)\n",
    "type(text)"
   ]
  },
  {
   "cell_type": "code",
   "execution_count": 32,
   "id": "a33f3ad3-091c-4717-a7bc-f99750d66edf",
   "metadata": {},
   "outputs": [
    {
     "data": {
      "text/plain": [
       "['where',\n",
       " 'he',\n",
       " 'could',\n",
       " 'look',\n",
       " 'up',\n",
       " 'and',\n",
       " 'down',\n",
       " 'a',\n",
       " 'new',\n",
       " 'street',\n",
       " '.',\n",
       " 'There',\n",
       " 'were',\n",
       " 'no',\n",
       " 'cars',\n",
       " '--',\n",
       " 'no',\n",
       " 'people',\n",
       " '.',\n",
       " 'Not',\n",
       " 'even',\n",
       " 'a',\n",
       " 'cat',\n",
       " '.',\n",
       " 'A',\n",
       " 'sign',\n",
       " 'overhanging',\n",
       " 'the',\n",
       " 'sidewalk',\n",
       " 'said',\n",
       " ':',\n",
       " 'Restaurant',\n",
       " '.',\n",
       " 'He',\n",
       " 'went',\n",
       " 'in',\n",
       " 'under',\n",
       " 'the',\n",
       " 'sign',\n",
       " 'and']"
      ]
     },
     "execution_count": 32,
     "metadata": {},
     "output_type": "execute_result"
    }
   ],
   "source": [
    "text[1020:1060]"
   ]
  },
  {
   "cell_type": "code",
   "execution_count": 33,
   "id": "3e36004c-cf0c-482c-8b90-fefd148fa7f6",
   "metadata": {},
   "outputs": [
    {
     "name": "stdout",
     "output_type": "stream",
     "text": [
      "Project Gutenberg™; Jim Wilson; Project Gutenberg; United States;\n",
      "Literary Archive; Frank Brooks; Gutenberg™ electronic; electronic\n",
      "works; Gutenberg Literary; Leroy Davis; Archive Foundation; Frank\n",
      "said; young man; set forth; 've got; electronic work; n't know;\n",
      "Madison Street; Gutenberg™ License; Wilson said\n"
     ]
    }
   ],
   "source": [
    "text.collocations()"
   ]
  },
  {
   "cell_type": "code",
   "execution_count": 34,
   "id": "da11690c-6c13-4d19-88dc-392242cba5af",
   "metadata": {},
   "outputs": [
    {
     "data": {
      "text/plain": [
       "873"
      ]
     },
     "execution_count": 34,
     "metadata": {},
     "output_type": "execute_result"
    }
   ],
   "source": [
    "raw.find(\"DEADLY CITY\")"
   ]
  },
  {
   "cell_type": "code",
   "execution_count": 35,
   "id": "707775d3-67bd-4cc5-96c5-4be0d7750a68",
   "metadata": {},
   "outputs": [
    {
     "data": {
      "text/plain": [
       "91186"
      ]
     },
     "execution_count": 35,
     "metadata": {},
     "output_type": "execute_result"
    }
   ],
   "source": [
    "raw.rfind(\"*** END OF THE PROJECT GUTENBERG EBOOK DEADLY CITY ***\")"
   ]
  },
  {
   "cell_type": "code",
   "execution_count": 37,
   "id": "6031ae8f-64db-469d-854e-083669aafaad",
   "metadata": {},
   "outputs": [
    {
     "data": {
      "text/plain": [
       "-1"
      ]
     },
     "execution_count": 37,
     "metadata": {},
     "output_type": "execute_result"
    }
   ],
   "source": [
    "raw = raw[873:91186]\n",
    "raw.find(\"DEADLY CITY\")"
   ]
  },
  {
   "cell_type": "markdown",
   "id": "2ea34a8e-cb46-4f38-a007-24b1ce3fa0c1",
   "metadata": {},
   "source": [
    "## Dealing with HTML"
   ]
  },
  {
   "cell_type": "code",
   "execution_count": 40,
   "id": "a7318095-3be2-4762-84d7-c984bed21859",
   "metadata": {},
   "outputs": [
    {
     "data": {
      "text/plain": [
       "b'<!doctype html public \"-//W3C//DTD HTML 4.0 Transitional//EN'"
      ]
     },
     "execution_count": 40,
     "metadata": {},
     "output_type": "execute_result"
    }
   ],
   "source": [
    "url = \"http://news.bbc.co.uk/2/hi/health/2284783.stm\"\n",
    "html = urlopen(url).read()\n",
    "html[:60]"
   ]
  },
  {
   "cell_type": "code",
   "execution_count": 45,
   "id": "a21153e8-51bd-43ae-b8c4-a174dd2c1db2",
   "metadata": {},
   "outputs": [
    {
     "data": {
      "text/plain": [
       "['BBC', 'NEWS', '|', 'Health', '|', 'Blondes', \"'to\", 'die', 'out', 'in']"
      ]
     },
     "execution_count": 45,
     "metadata": {},
     "output_type": "execute_result"
    }
   ],
   "source": [
    "from bs4 import BeautifulSoup\n",
    "\n",
    "raw = BeautifulSoup(html).get_text() # takes an HTML string and returns raw text\n",
    "tokens = nltk.word_tokenize(raw)\n",
    "tokens[:10]"
   ]
  },
  {
   "cell_type": "code",
   "execution_count": 47,
   "id": "079a447a-c991-4f47-ba90-1457c5254a89",
   "metadata": {},
   "outputs": [
    {
     "name": "stdout",
     "output_type": "stream",
     "text": [
      "Displaying 5 of 5 matches:\n",
      "hey say too few people now carry the gene for blondes to last beyond the next \n",
      "blonde hair is caused by a recessive gene . In order for a child to have blond\n",
      " have blonde hair , it must have the gene on both sides of the family in the g\n",
      "ere is a disadvantage of having that gene or by chance . They do n't disappear\n",
      "des would disappear is if having the gene was a disadvantage and I do not thin\n"
     ]
    }
   ],
   "source": [
    "tokens = tokens[96:399]\n",
    "text = nltk.Text(tokens)\n",
    "text.concordance('gene')"
   ]
  },
  {
   "cell_type": "code",
   "execution_count": null,
   "id": "bb14fa5c-4a0f-4dc2-98ba-31f40afe7bdc",
   "metadata": {},
   "outputs": [],
   "source": []
  }
 ],
 "metadata": {
  "kernelspec": {
   "display_name": "Python 3 (ipykernel)",
   "language": "python",
   "name": "python3"
  },
  "language_info": {
   "codemirror_mode": {
    "name": "ipython",
    "version": 3
   },
   "file_extension": ".py",
   "mimetype": "text/x-python",
   "name": "python",
   "nbconvert_exporter": "python",
   "pygments_lexer": "ipython3",
   "version": "3.11.7"
  }
 },
 "nbformat": 4,
 "nbformat_minor": 5
}
