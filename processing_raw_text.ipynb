{
 "cells": [
  {
   "cell_type": "code",
   "execution_count": 13,
   "id": "c8aeef2d-a210-4d40-b5da-a8d6d4609266",
   "metadata": {},
   "outputs": [],
   "source": [
    "import nltk\n",
    "import re\n",
    "import pprint"
   ]
  },
  {
   "cell_type": "markdown",
   "id": "98160137-5082-41da-9884-7e5c47e7673c",
   "metadata": {},
   "source": [
    "## Accessing Text from the Web and from Disk"
   ]
  },
  {
   "cell_type": "code",
   "execution_count": 14,
   "id": "3fa6d907-6695-4682-a7a7-55bbf9485189",
   "metadata": {},
   "outputs": [
    {
     "data": {
      "text/plain": [
       "str"
      ]
     },
     "execution_count": 14,
     "metadata": {},
     "output_type": "execute_result"
    }
   ],
   "source": [
    "from urllib.request import urlopen\n",
    "\n",
    "url = \"https://www.gutenberg.org/cache/epub/32705/pg32705.txt\"\n",
    "\n",
    "raw = urlopen(url).read().decode('utf-8')\n",
    "type(raw)"
   ]
  },
  {
   "cell_type": "code",
   "execution_count": 15,
   "id": "0306de7e-db17-4c98-8399-d5874456c7b2",
   "metadata": {},
   "outputs": [
    {
     "data": {
      "text/plain": [
       "110015"
      ]
     },
     "execution_count": 15,
     "metadata": {},
     "output_type": "execute_result"
    }
   ],
   "source": [
    "len(raw)"
   ]
  },
  {
   "cell_type": "code",
   "execution_count": 16,
   "id": "23471d64-0089-4ef9-a77f-cd65067ec149",
   "metadata": {},
   "outputs": [
    {
     "data": {
      "text/plain": [
       "'\\ufeffThe Project Gutenberg eBook of Deadly City\\r\\n    \\r\\nThis ebook is for the us'"
      ]
     },
     "execution_count": 16,
     "metadata": {},
     "output_type": "execute_result"
    }
   ],
   "source": [
    "raw[:75]"
   ]
  },
  {
   "cell_type": "code",
   "execution_count": 17,
   "id": "d1fdfd79-e8b3-4d27-8024-bb7a09d5b858",
   "metadata": {},
   "outputs": [
    {
     "data": {
      "text/plain": [
       "list"
      ]
     },
     "execution_count": 17,
     "metadata": {},
     "output_type": "execute_result"
    }
   ],
   "source": [
    "tokens = nltk.word_tokenize(raw)\n",
    "type(tokens)"
   ]
  },
  {
   "cell_type": "code",
   "execution_count": 18,
   "id": "7bdb5f9a-d30d-4476-aad4-1d7915f837e8",
   "metadata": {},
   "outputs": [
    {
     "data": {
      "text/plain": [
       "23472"
      ]
     },
     "execution_count": 18,
     "metadata": {},
     "output_type": "execute_result"
    }
   ],
   "source": [
    "len(tokens)"
   ]
  },
  {
   "cell_type": "code",
   "execution_count": 19,
   "id": "899e6696-223a-420d-b817-4d993013e040",
   "metadata": {},
   "outputs": [
    {
     "data": {
      "text/plain": [
       "['\\ufeffThe',\n",
       " 'Project',\n",
       " 'Gutenberg',\n",
       " 'eBook',\n",
       " 'of',\n",
       " 'Deadly',\n",
       " 'City',\n",
       " 'This',\n",
       " 'ebook',\n",
       " 'is']"
      ]
     },
     "execution_count": 19,
     "metadata": {},
     "output_type": "execute_result"
    }
   ],
   "source": [
    "tokens[:10]"
   ]
  },
  {
   "cell_type": "code",
   "execution_count": 20,
   "id": "2e5234aa-a96a-40e4-b210-f582efdc5d7c",
   "metadata": {},
   "outputs": [
    {
     "data": {
      "text/plain": [
       "nltk.text.Text"
      ]
     },
     "execution_count": 20,
     "metadata": {},
     "output_type": "execute_result"
    }
   ],
   "source": [
    "text = nltk.Text(tokens)\n",
    "type(text)"
   ]
  },
  {
   "cell_type": "code",
   "execution_count": 21,
   "id": "a33f3ad3-091c-4717-a7bc-f99750d66edf",
   "metadata": {},
   "outputs": [
    {
     "data": {
      "text/plain": [
       "['where',\n",
       " 'he',\n",
       " 'could',\n",
       " 'look',\n",
       " 'up',\n",
       " 'and',\n",
       " 'down',\n",
       " 'a',\n",
       " 'new',\n",
       " 'street',\n",
       " '.',\n",
       " 'There',\n",
       " 'were',\n",
       " 'no',\n",
       " 'cars',\n",
       " '--',\n",
       " 'no',\n",
       " 'people',\n",
       " '.',\n",
       " 'Not',\n",
       " 'even',\n",
       " 'a',\n",
       " 'cat',\n",
       " '.',\n",
       " 'A',\n",
       " 'sign',\n",
       " 'overhanging',\n",
       " 'the',\n",
       " 'sidewalk',\n",
       " 'said',\n",
       " ':',\n",
       " 'Restaurant',\n",
       " '.',\n",
       " 'He',\n",
       " 'went',\n",
       " 'in',\n",
       " 'under',\n",
       " 'the',\n",
       " 'sign',\n",
       " 'and']"
      ]
     },
     "execution_count": 21,
     "metadata": {},
     "output_type": "execute_result"
    }
   ],
   "source": [
    "text[1020:1060]"
   ]
  },
  {
   "cell_type": "code",
   "execution_count": 22,
   "id": "3e36004c-cf0c-482c-8b90-fefd148fa7f6",
   "metadata": {},
   "outputs": [
    {
     "name": "stdout",
     "output_type": "stream",
     "text": [
      "Project Gutenberg™; Jim Wilson; Project Gutenberg; United States;\n",
      "Literary Archive; Frank Brooks; Gutenberg™ electronic; electronic\n",
      "works; Gutenberg Literary; Leroy Davis; Archive Foundation; Frank\n",
      "said; young man; set forth; 've got; electronic work; n't know;\n",
      "Madison Street; Gutenberg™ License; Wilson said\n"
     ]
    }
   ],
   "source": [
    "text.collocations()"
   ]
  },
  {
   "cell_type": "code",
   "execution_count": 23,
   "id": "da11690c-6c13-4d19-88dc-392242cba5af",
   "metadata": {},
   "outputs": [
    {
     "data": {
      "text/plain": [
       "873"
      ]
     },
     "execution_count": 23,
     "metadata": {},
     "output_type": "execute_result"
    }
   ],
   "source": [
    "raw.find(\"DEADLY CITY\")"
   ]
  },
  {
   "cell_type": "code",
   "execution_count": 24,
   "id": "707775d3-67bd-4cc5-96c5-4be0d7750a68",
   "metadata": {},
   "outputs": [
    {
     "data": {
      "text/plain": [
       "91186"
      ]
     },
     "execution_count": 24,
     "metadata": {},
     "output_type": "execute_result"
    }
   ],
   "source": [
    "raw.rfind(\"*** END OF THE PROJECT GUTENBERG EBOOK DEADLY CITY ***\")"
   ]
  },
  {
   "cell_type": "code",
   "execution_count": 25,
   "id": "6031ae8f-64db-469d-854e-083669aafaad",
   "metadata": {},
   "outputs": [
    {
     "data": {
      "text/plain": [
       "0"
      ]
     },
     "execution_count": 25,
     "metadata": {},
     "output_type": "execute_result"
    }
   ],
   "source": [
    "raw = raw[873:91186]\n",
    "raw.find(\"DEADLY CITY\")"
   ]
  },
  {
   "cell_type": "markdown",
   "id": "2ea34a8e-cb46-4f38-a007-24b1ce3fa0c1",
   "metadata": {},
   "source": [
    "## Dealing with HTML"
   ]
  },
  {
   "cell_type": "code",
   "execution_count": 26,
   "id": "a7318095-3be2-4762-84d7-c984bed21859",
   "metadata": {},
   "outputs": [
    {
     "data": {
      "text/plain": [
       "b'<!doctype html public \"-//W3C//DTD HTML 4.0 Transitional//EN'"
      ]
     },
     "execution_count": 26,
     "metadata": {},
     "output_type": "execute_result"
    }
   ],
   "source": [
    "url = \"http://news.bbc.co.uk/2/hi/health/2284783.stm\"\n",
    "html = urlopen(url).read()\n",
    "html[:60]"
   ]
  },
  {
   "cell_type": "code",
   "execution_count": 27,
   "id": "a21153e8-51bd-43ae-b8c4-a174dd2c1db2",
   "metadata": {},
   "outputs": [
    {
     "data": {
      "text/plain": [
       "['BBC', 'NEWS', '|', 'Health', '|', 'Blondes', \"'to\", 'die', 'out', 'in']"
      ]
     },
     "execution_count": 27,
     "metadata": {},
     "output_type": "execute_result"
    }
   ],
   "source": [
    "from bs4 import BeautifulSoup\n",
    "\n",
    "raw = BeautifulSoup(html).get_text() # takes an HTML string and returns raw text\n",
    "tokens = nltk.word_tokenize(raw)\n",
    "tokens[:10]"
   ]
  },
  {
   "cell_type": "code",
   "execution_count": 28,
   "id": "079a447a-c991-4f47-ba90-1457c5254a89",
   "metadata": {},
   "outputs": [
    {
     "name": "stdout",
     "output_type": "stream",
     "text": [
      "Displaying 5 of 5 matches:\n",
      "hey say too few people now carry the gene for blondes to last beyond the next \n",
      "blonde hair is caused by a recessive gene . In order for a child to have blond\n",
      " have blonde hair , it must have the gene on both sides of the family in the g\n",
      "ere is a disadvantage of having that gene or by chance . They do n't disappear\n",
      "des would disappear is if having the gene was a disadvantage and I do not thin\n"
     ]
    }
   ],
   "source": [
    "tokens = tokens[96:399]\n",
    "text = nltk.Text(tokens)\n",
    "text.concordance('gene')"
   ]
  },
  {
   "cell_type": "markdown",
   "id": "c914ee96-509e-4217-9622-08c90a7afc77",
   "metadata": {},
   "source": [
    "### Processing RSS Feed"
   ]
  },
  {
   "cell_type": "code",
   "execution_count": 29,
   "id": "f6d8816d-6410-4b9c-b75f-a23c1a595e14",
   "metadata": {},
   "outputs": [
    {
     "data": {
      "text/plain": [
       "'Language Log'"
      ]
     },
     "execution_count": 29,
     "metadata": {},
     "output_type": "execute_result"
    }
   ],
   "source": [
    "import feedparser\n",
    "\n",
    "llog = feedparser.parse(\"http://languagelog.ldc.upenn.edu/nll/?feed=atom\")\n",
    "llog['feed']['title']"
   ]
  },
  {
   "cell_type": "code",
   "execution_count": 30,
   "id": "10da681e-0923-45cc-8dd9-e04d3aaceb4e",
   "metadata": {},
   "outputs": [
    {
     "data": {
      "text/plain": [
       "13"
      ]
     },
     "execution_count": 30,
     "metadata": {},
     "output_type": "execute_result"
    }
   ],
   "source": [
    "len(llog.entries)"
   ]
  },
  {
   "cell_type": "code",
   "execution_count": 31,
   "id": "cff48021-e24e-4bbd-ab70-2c95bc57745a",
   "metadata": {},
   "outputs": [
    {
     "data": {
      "text/plain": [
       "'Pronunciation guides fail spectacularly'"
      ]
     },
     "execution_count": 31,
     "metadata": {},
     "output_type": "execute_result"
    }
   ],
   "source": [
    "post = llog.entries[2]\n",
    "post.title"
   ]
  },
  {
   "cell_type": "code",
   "execution_count": 32,
   "id": "9567f389-3c48-4d04-8731-fc18d4a055dc",
   "metadata": {},
   "outputs": [
    {
     "data": {
      "text/plain": [
       "'<p>ICYMI:</p>\\n<p></p>\\n<p><span id=\"more-64715\"></span></p>\\n<p>Jonathan'"
      ]
     },
     "execution_count": 32,
     "metadata": {},
     "output_type": "execute_result"
    }
   ],
   "source": [
    "content = post.content[0].value\n",
    "content[:70]"
   ]
  },
  {
   "cell_type": "code",
   "execution_count": 35,
   "id": "2461e1d9-4e88-4a86-a7f2-91b40fc91e7e",
   "metadata": {},
   "outputs": [
    {
     "data": {
      "text/plain": [
       "['ICYMI',\n",
       " ':',\n",
       " 'Jonathan',\n",
       " 'Edwards',\n",
       " ',',\n",
       " '``',\n",
       " 'Mispronunciations',\n",
       " 'spoil',\n",
       " 'graduation',\n",
       " 'at']"
      ]
     },
     "execution_count": 35,
     "metadata": {},
     "output_type": "execute_result"
    }
   ],
   "source": [
    "raw = BeautifulSoup(content).get_text()\n",
    "\n",
    "nltk.word_tokenize(raw)[:10]"
   ]
  },
  {
   "cell_type": "markdown",
   "id": "bd10da6d-c888-49bb-ad1e-c54b6d314433",
   "metadata": {},
   "source": [
    "# Exercises"
   ]
  },
  {
   "cell_type": "code",
   "execution_count": 5,
   "id": "271d1a9e-b826-4caf-8cfc-2d9c6acbbfaf",
   "metadata": {},
   "outputs": [],
   "source": [
    "import re"
   ]
  },
  {
   "cell_type": "markdown",
   "id": "f06ee3aa-d8be-44e4-b110-d9af12da5df2",
   "metadata": {},
   "source": [
    "### 1. Define a string s = 'colorless'. Write a Python statement that changes this to “colourless” using only the slice and concatenation operations."
   ]
  },
  {
   "cell_type": "code",
   "execution_count": 7,
   "id": "4e003969-9aea-4b91-92be-adcb10570f68",
   "metadata": {},
   "outputs": [
    {
     "data": {
      "text/plain": [
       "'colourless'"
      ]
     },
     "execution_count": 7,
     "metadata": {},
     "output_type": "execute_result"
    }
   ],
   "source": [
    "s = \"colorless\"\n",
    "s = s[:4] + 'u' + s[-5:]\n",
    "s"
   ]
  },
  {
   "cell_type": "markdown",
   "id": "919dba90-a728-4abd-b209-e21cb0542936",
   "metadata": {},
   "source": [
    "### 2. We can use the slice notation to remove morphological endings on words. For example, 'dogs'[:-1] removes the last character of dogs, leaving dog. Use slice notation to remove the affixes from these words (we’ve inserted a hyphen to indi- cate the affix boundary, but omit this from your strings): dish-es, run-ning, nation- ality, un-do, pre-heat"
   ]
  },
  {
   "cell_type": "code",
   "execution_count": 30,
   "id": "13d9480f-1db5-4f14-992f-0bab678a7ca2",
   "metadata": {},
   "outputs": [
    {
     "data": {
      "text/plain": [
       "['dish', 'run', 'nation', 'un', 'pre']"
      ]
     },
     "execution_count": 30,
     "metadata": {},
     "output_type": "execute_result"
    }
   ],
   "source": [
    "words = [\"dishes\", \"running\", \"nationality\", \"undo\", \"preheat\"]\n",
    "\n",
    "[w[:m.start(0)] for w in words for m in re.finditer(r\"(es|ning|ality|do|heat)$\", w)]"
   ]
  },
  {
   "cell_type": "markdown",
   "id": "7ccf1d4b-d40b-4dd8-be51-392091f08817",
   "metadata": {},
   "source": [
    "### 7. Write regular expressions to match the following classes of strings:\n",
    "#### a. A single determiner (assume that a, an, and the are the only determiners)\n",
    "#### b. An arithmetic expression using integers, addition, and multiplication, such as 2*3+8"
   ]
  },
  {
   "cell_type": "code",
   "execution_count": 60,
   "id": "a4f186cf-1a07-46c0-b75c-ddc3a586658d",
   "metadata": {},
   "outputs": [
    {
     "data": {
      "text/plain": [
       "<re.Match object; span=(0, 1), match='a'>"
      ]
     },
     "execution_count": 60,
     "metadata": {},
     "output_type": "execute_result"
    }
   ],
   "source": [
    "# single determiner regex \n",
    "re.match('^an?$|^the$', 'a')"
   ]
  },
  {
   "cell_type": "code",
   "execution_count": 63,
   "id": "7e0ac9b3-fc59-400d-a267-51c6d4cceb50",
   "metadata": {},
   "outputs": [
    {
     "data": {
      "text/plain": [
       "<re.Match object; span=(0, 7), match='2*3+8*2'>"
      ]
     },
     "execution_count": 63,
     "metadata": {},
     "output_type": "execute_result"
    }
   ],
   "source": [
    "# arithmetic expression regex\n",
    "re.match(r'\\d+([\\*|\\+|/|-]\\d+)+', '2*3+8*2')"
   ]
  },
  {
   "cell_type": "markdown",
   "id": "601ee6f8-fb68-4f72-aa8b-8640c98734a4",
   "metadata": {},
   "source": [
    "### 8. Write a utility function that takes a URL as it's argument, and returns the contents of the URL, with all HTML markup removed. Use urllib.urlopen to access the contents of the URL, e.g.:"
   ]
  },
  {
   "cell_type": "code",
   "execution_count": 95,
   "id": "1188cba9-0ae2-48de-9c5c-25a8e6d29f10",
   "metadata": {},
   "outputs": [
    {
     "data": {
      "text/plain": [
       "'\\n\\n\\n  \\n    \\n    \\n\\n\\n\\n\\n\\n\\n\\n\\n\\n\\n\\n\\n    The Python Tutorial &#8212; Python 3.12.4 documentation\\n    \\n    \\n    \\n    \\n    \\n    \\n    \\n    \\n    \\n    \\n    \\n    \\n    \\n    \\n    \\n    \\n    \\n    \\n    \\n      \\n    \\n    \\n    \\n      \\n    \\n\\n    \\n    \\n      @media only screen {\\n        table.full-width-table {\\n            width: 100%;\\n        }\\n      }\\n    \\n\\n    \\n            \\n            \\n            \\n             \\n            \\n            \\n\\n  \\n\\n\\n    \\n    \\n        \\n            \\n        \\n        \\n            \\n                \\n            \\n            \\n            \\n                \\n                    \\n                \\n                \\n                \\n            \\n        \\n    \\n    \\n        \\n            \\n            \\n\\n    Theme\\n    \\n        Auto\\n        Light\\n        Dark\\n    \\n\\n  \\n    Previous topic\\n    Changelog\\n  \\n  \\n    Next topic\\n    1. Whetting Your Appetite\\n  \\n  \\n    This Page\\n    \\n      Report a Bug\\n      \\n        Show Source\\n        \\n      \\n    \\n  \\n        \\n    \\n\\n\\n  \\n    \\n      Navigation\\n      \\n        \\n          index\\n        \\n          modules |\\n        \\n          next |\\n        \\n          previous |\\n\\n          \\n          Python &#187;\\n          \\n            \\n            \\n          \\n          \\n              \\n          \\n    \\n      3.12.4 Documentation &#187;\\n    \\n\\n        The Python Tutorial\\n                \\n                    \\n\\n    \\n        \\n          \\n          \\n        \\n    \\n                     |\\n                \\n            \\n\\n    Theme\\n    \\n        Auto\\n        Light\\n        Dark\\n    \\n |\\n            \\n      \\n        \\n\\n    \\n      \\n        \\n          \\n            \\n  \\nThe Python Tutorial¶\\nPython is an easy to learn, powerful programming language. It has efficient\\nhigh-level data structures and a simple but effective approach to\\nobject-oriented programming. Python’s elegant syntax and dynamic typing,\\ntogether with its interpreted nature, make it an ideal language for scripting\\nand rapid application development in many areas on most platforms.\\nThe Python interpreter and the extensive standard library are freely available\\nin source or binary form for all major platforms from the Python web site,\\nhttps://www.python.org/, and may be freely distributed. The same site also\\ncontains distributions of and pointers to many free third party Python modules,\\nprograms and tools, and additional documentation.\\nThe Python interpreter is easily extended with new functions and data types\\nimplemented in C or C++ (or other languages callable from C). Python is also\\nsuitable as an extension language for customizable applications.\\nThis tutorial introduces the reader informally to the basic concepts and\\nfeatures of the Python language and system. It helps to have a Python\\ninterpreter handy for hands-on experience, but all examples are self-contained,\\nso the tutorial can be read off-line as well.\\nFor a description of standard objects and modules, see The Python Standard Library.\\nThe Python Language Reference gives a more formal definition of the language.  To write\\nextensions in C or C++, read Extending and Embedding the Python Interpreter and\\nPython/C API Reference Manual. There are also several books covering Python in depth.\\nThis tutorial does not attempt to be comprehensive and cover every single\\nfeature, or even every commonly used feature. Instead, it introduces many of\\nPython’s most noteworthy features, and will give you a good idea of the\\nlanguage’s flavor and style. After reading it, you will be able to read and\\nwrite Python modules and programs, and you will be ready to learn more about the\\nvarious Python library modules described in The Python Standard Library.\\nThe Glossary is also worth going through.\\n\\n\\n1. Whetting Your Appetite\\n2. Using the Python Interpreter\\n2.1. Invoking the Interpreter\\n2.1.1. Argument Passing\\n2.1.2. Interactive Mode\\n\\n\\n2.2. The Interpreter and Its Environment\\n2.2.1. Source Code Encoding\\n\\n\\n\\n\\n3. An Informal Introduction to Python\\n3.1. Using Python as a Calculator\\n3.1.1. Numbers\\n3.1.2. Text\\n3.1.3. Lists\\n\\n\\n3.2. First Steps Towards Programming\\n\\n\\n4. More Control Flow Tools\\n4.1. if Statements\\n4.2. for Statements\\n4.3. The range() Function\\n4.4. break and continue Statements, and else Clauses on Loops\\n4.5. pass Statements\\n4.6. match Statements\\n4.7. Defining Functions\\n4.8. More on Defining Functions\\n4.8.1. Default Argument Values\\n4.8.2. Keyword Arguments\\n4.8.3. Special parameters\\n4.8.3.1. Positional-or-Keyword Arguments\\n4.8.3.2. Positional-Only Parameters\\n4.8.3.3. Keyword-Only Arguments\\n4.8.3.4. Function Examples\\n4.8.3.5. Recap\\n\\n\\n4.8.4. Arbitrary Argument Lists\\n4.8.5. Unpacking Argument Lists\\n4.8.6. Lambda Expressions\\n4.8.7. Documentation Strings\\n4.8.8. Function Annotations\\n\\n\\n4.9. Intermezzo: Coding Style\\n\\n\\n5. Data Structures\\n5.1. More on Lists\\n5.1.1. Using Lists as Stacks\\n5.1.2. Using Lists as Queues\\n5.1.3. List Comprehensions\\n5.1.4. Nested List Comprehensions\\n\\n\\n5.2. The del statement\\n5.3. Tuples and Sequences\\n5.4. Sets\\n5.5. Dictionaries\\n5.6. Looping Techniques\\n5.7. More on Conditions\\n5.8. Comparing Sequences and Other Types\\n\\n\\n6. Modules\\n6.1. More on Modules\\n6.1.1. Executing modules as scripts\\n6.1.2. The Module Search Path\\n6.1.3. “Compiled” Python files\\n\\n\\n6.2. Standard Modules\\n6.3. The dir() Function\\n6.4. Packages\\n6.4.1. Importing * From a Package\\n6.4.2. Intra-package References\\n6.4.3. Packages in Multiple Directories\\n\\n\\n\\n\\n7. Input and Output\\n7.1. Fancier Output Formatting\\n7.1.1. Formatted String Literals\\n7.1.2. The String format() Method\\n7.1.3. Manual String Formatting\\n7.1.4. Old string formatting\\n\\n\\n7.2. Reading and Writing Files\\n7.2.1. Methods of File Objects\\n7.2.2. Saving structured data with json\\n\\n\\n\\n\\n8. Errors and Exceptions\\n8.1. Syntax Errors\\n8.2. Exceptions\\n8.3. Handling Exceptions\\n8.4. Raising Exceptions\\n8.5. Exception Chaining\\n8.6. User-defined Exceptions\\n8.7. Defining Clean-up Actions\\n8.8. Predefined Clean-up Actions\\n8.9. Raising and Handling Multiple Unrelated Exceptions\\n8.10. Enriching Exceptions with Notes\\n\\n\\n9. Classes\\n9.1. A Word About Names and Objects\\n9.2. Python Scopes and Namespaces\\n9.2.1. Scopes and Namespaces Example\\n\\n\\n9.3. A First Look at Classes\\n9.3.1. Class Definition Syntax\\n9.3.2. Class Objects\\n9.3.3. Instance Objects\\n9.3.4. Method Objects\\n9.3.5. Class and Instance Variables\\n\\n\\n9.4. Random Remarks\\n9.5. Inheritance\\n9.5.1. Multiple Inheritance\\n\\n\\n9.6. Private Variables\\n9.7. Odds and Ends\\n9.8. Iterators\\n9.9. Generators\\n9.10. Generator Expressions\\n\\n\\n10. Brief Tour of the Standard Library\\n10.1. Operating System Interface\\n10.2. File Wildcards\\n10.3. Command Line Arguments\\n10.4. Error Output Redirection and Program Termination\\n10.5. String Pattern Matching\\n10.6. Mathematics\\n10.7. Internet Access\\n10.8. Dates and Times\\n10.9. Data Compression\\n10.10. Performance Measurement\\n10.11. Quality Control\\n10.12. Batteries Included\\n\\n\\n11. Brief Tour of the Standard Library — Part II\\n11.1. Output Formatting\\n11.2. Templating\\n11.3. Working with Binary Data Record Layouts\\n11.4. Multi-threading\\n11.5. Logging\\n11.6. Weak References\\n11.7. Tools for Working with Lists\\n11.8. Decimal Floating Point Arithmetic\\n\\n\\n12. Virtual Environments and Packages\\n12.1. Introduction\\n12.2. Creating Virtual Environments\\n12.3. Managing Packages with pip\\n\\n\\n13. What Now?\\n14. Interactive Input Editing and History Substitution\\n14.1. Tab Completion and History Editing\\n14.2. Alternatives to the Interactive Interpreter\\n\\n\\n15. Floating Point Arithmetic:  Issues and Limitations\\n15.1. Representation Error\\n\\n\\n16. Appendix\\n16.1. Interactive Mode\\n16.1.1. Error Handling\\n16.1.2. Executable Python Scripts\\n16.1.3. The Interactive Startup File\\n16.1.4. The Customization Modules\\n\\n\\n\\n\\n\\n\\n\\n\\n\\n            \\n          \\n        \\n      \\n      \\n        \\n  \\n    Previous topic\\n    Changelog\\n  \\n  \\n    Next topic\\n    1. Whetting Your Appetite\\n  \\n  \\n    This Page\\n    \\n      Report a Bug\\n      \\n        Show Source\\n        \\n      \\n    \\n  \\n        \\n\\n«\\n\\n\\n      \\n      \\n      \\n    \\n      Navigation\\n      \\n        \\n          index\\n        \\n          modules |\\n        \\n          next |\\n        \\n          previous |\\n\\n          \\n          Python &#187;\\n          \\n            \\n            \\n          \\n          \\n              \\n          \\n    \\n      3.12.4 Documentation &#187;\\n    \\n\\n        The Python Tutorial\\n                \\n                    \\n\\n    \\n        \\n          \\n          \\n        \\n    \\n                     |\\n                \\n            \\n\\n    Theme\\n    \\n        Auto\\n        Light\\n        Dark\\n    \\n |\\n            \\n      \\n      \\n    \\n    &copy; \\n      \\n    \\n    Copyright\\n    \\n      \\n     2001-2024, Python Software Foundation.\\n    \\n    This page is licensed under the Python Software Foundation License Version 2.\\n    \\n    Examples, recipes, and other code in the documentation are additionally licensed under the Zero Clause BSD License.\\n    \\n    \\n      See History and License for more information.\\n    \\n    \\n    \\n\\n    The Python Software Foundation is a non-profit corporation.\\nPlease donate.\\n\\n    \\n      Last updated on Jun 29, 2024 (18:18 UTC).\\n    \\n      Found a bug?\\n    \\n    \\n\\n    Created using Sphinx 7.3.7.\\n    \\n\\n    \\n  \\n'"
      ]
     },
     "execution_count": 95,
     "metadata": {},
     "output_type": "execute_result"
    }
   ],
   "source": [
    "from urllib.request import urlopen\n",
    "\n",
    "def strip_html(url):\n",
    "    \"\"\"\n",
    "    Takes a url and returns the contents with html tags removed\n",
    "    \"\"\"\n",
    "    raw_contents = urlopen(url).read().decode('utf-8')\n",
    "    \n",
    "    return re.sub(r'<[\\s\\S]*?>', '', raw_contents)\n",
    "\n",
    "strip_html('https://docs.python.org/3/tutorial/index.html')"
   ]
  },
  {
   "cell_type": "markdown",
   "id": "fae23a5c-bcf7-46f4-96ae-aeb2785de958",
   "metadata": {},
   "source": [
    "### 9. Save some text into a file corpus.txt. Define a function load(f) that reads from the file named in its sole argument, and returns a string containing the text of the file.\n",
    "#### a. Use nltk.regexp_tokenize() to create a tokenizer that tokenizes the various kinds of punctuation in this text. Use one multiline regular expression inline comments, using the verbose flag (?x).\n",
    "#### b. Use nltk.regexp_tokenize() to create a tokenizer that tokenizes the following kinds of expressions: monetary amounts; dates; names of people and organizations."
   ]
  },
  {
   "cell_type": "code",
   "execution_count": 97,
   "id": "ea8942ac-cdba-4def-88fa-e2b8104b654b",
   "metadata": {},
   "outputs": [
    {
     "data": {
      "text/plain": [
       "'The Python Tutorial\\nPython is an easy to learn, powerful programming language. It has efficient high-level data structures and a simple but effective approach to object-oriented programming. Python’s elegant syntax and dynamic typing, together with its interpreted nature, make it an ideal language for scripting and rapid application development in many areas on most platforms.\\n\\nThe Python interpreter and the extensive standard library are freely available in source or binary form for all major platforms from the Python web site, https://www.python.org/, and may be freely distributed. The same site also contains distributions of and pointers to many free third party Python modules, programs and tools, and additional documentation.\\n\\nThe Python interpreter is easily extended with new functions and data types implemented in C or C++ (or other languages callable from C). Python is also suitable as an extension language for customizable applications.\\n\\nThis tutorial introduces the reader informally to the basic concepts and features of the Python language and system. It helps to have a Python interpreter handy for hands-on experience, but all examples are self-contained, so the tutorial can be read off-line as well.\\n\\nFor a description of standard objects and modules, see The Python Standard Library. The Python Language Reference gives a more formal definition of the language. To write extensions in C or C++, read Extending and Embedding the Python Interpreter and Python/C API Reference Manual. There are also several books covering Python in depth.\\n\\nThis tutorial does not attempt to be comprehensive and cover every single feature, or even every commonly used feature. Instead, it introduces many of Python’s most noteworthy features, and will give you a good idea of the language’s flavor and style. After reading it, you will be able to read and write Python modules and programs, and you will be ready to learn more about the various Python library modules described in The Python Standard Library.\\n\\n'"
      ]
     },
     "execution_count": 97,
     "metadata": {},
     "output_type": "execute_result"
    }
   ],
   "source": [
    "from nltk import regexp_tokenize\n",
    "\n",
    "def load(f):\n",
    "    with open(f) as file:\n",
    "        content = file.read()\n",
    "    return content\n",
    "\n",
    "pattern = r\"\"\"(?x)\n",
    "\n",
    "\"\"\""
   ]
  },
  {
   "cell_type": "code",
   "execution_count": null,
   "id": "427ce188-b719-4e3a-8a17-f258cd170156",
   "metadata": {},
   "outputs": [],
   "source": []
  },
  {
   "cell_type": "code",
   "execution_count": null,
   "id": "d18ebe87-1647-4369-9949-863e09ccaadd",
   "metadata": {},
   "outputs": [],
   "source": []
  },
  {
   "cell_type": "code",
   "execution_count": null,
   "id": "7da3a0fd-7220-444a-8249-aceb828b5479",
   "metadata": {},
   "outputs": [],
   "source": []
  },
  {
   "cell_type": "code",
   "execution_count": null,
   "id": "4042b735-ed95-420c-89c8-dfa72ab430f0",
   "metadata": {},
   "outputs": [],
   "source": []
  },
  {
   "cell_type": "code",
   "execution_count": null,
   "id": "2f492bd5-d935-4cf1-9eaf-d67c5a6a16a8",
   "metadata": {},
   "outputs": [],
   "source": []
  },
  {
   "cell_type": "code",
   "execution_count": null,
   "id": "08af650a-624c-4470-897a-41d4821092c0",
   "metadata": {},
   "outputs": [],
   "source": []
  }
 ],
 "metadata": {
  "kernelspec": {
   "display_name": "Python 3 (ipykernel)",
   "language": "python",
   "name": "python3"
  },
  "language_info": {
   "codemirror_mode": {
    "name": "ipython",
    "version": 3
   },
   "file_extension": ".py",
   "mimetype": "text/x-python",
   "name": "python",
   "nbconvert_exporter": "python",
   "pygments_lexer": "ipython3",
   "version": "3.10.14"
  }
 },
 "nbformat": 4,
 "nbformat_minor": 5
}
